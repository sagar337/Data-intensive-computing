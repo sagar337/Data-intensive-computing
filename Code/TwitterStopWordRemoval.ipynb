{
 "cells": [
  {
   "cell_type": "code",
   "execution_count": null,
   "metadata": {},
   "outputs": [],
   "source": [
    "#Name:Soumitra Alate UBITName: smalate(50289133)\n",
    "#Name:Sagar Pokale   UBITName: sagarpok(50288055)"
   ]
  },
  {
   "cell_type": "code",
   "execution_count": null,
   "metadata": {},
   "outputs": [
    {
     "name": "stdout",
     "output_type": "stream",
     "text": [
      "except\n",
      "except\n",
      "except\n",
      "except\n"
     ]
    }
   ],
   "source": [
    "from glob import glob\n",
    "import warc\n",
    "from bs4 import BeautifulSoup\n",
    "import requests\n",
    "from time import sleep\n",
    "from requests.adapters import HTTPAdapter\n",
    "from requests.packages.urllib3.util.retry import Retry\n",
    "import re\n",
    "from langdetect import detect\n",
    "links=[]\n",
    "n=0\n",
    "count=10\n",
    "#d = enchant.Dict(\"en_US\")\n",
    "# file=open('CommonCrawl.text','w')\n",
    "with warc.open(\"CC-MAIN-20190318132220-20190318153611-00020.warc.wet\") as f:\n",
    "    \n",
    "    for record in f:\n",
    "        url =  record.header.get('warc-target-URI',None)\n",
    "        if not url:\n",
    "            continue\n",
    "        content= record.payload.read()    \n",
    "        string = str(content,encoding='utf-8')\n",
    "        try:\n",
    "             if(detect(string) != 'en'):\n",
    "                continue\n",
    "                \n",
    "        except:\n",
    "            print(\"except\")\n",
    "            if(string.find('sport')!= -1):\n",
    "                #soup = BeautifulSoup(string, \"lxml\").text\n",
    "                #print(soup)\n",
    "                prirnt(string)\n",
    "                with open('CC2.txt', encoding='utf-8', mode='a') as file:\n",
    "                    file.write(string)\n",
    "                    file.write(\"\\t\\t\")  \n",
    "            \n",
    "    file.close()\n",
    "    "
   ]
  },
  {
   "cell_type": "code",
   "execution_count": null,
   "metadata": {},
   "outputs": [],
   "source": []
  }
 ],
 "metadata": {
  "kernelspec": {
   "display_name": "Python 3",
   "language": "python",
   "name": "python3"
  },
  "language_info": {
   "codemirror_mode": {
    "name": "ipython",
    "version": 3
   },
   "file_extension": ".py",
   "mimetype": "text/x-python",
   "name": "python",
   "nbconvert_exporter": "python",
   "pygments_lexer": "ipython3",
   "version": "3.7.1"
  }
 },
 "nbformat": 4,
 "nbformat_minor": 2
}
