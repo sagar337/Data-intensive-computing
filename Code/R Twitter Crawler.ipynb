{
 "cells": [
  {
   "cell_type": "markdown",
   "metadata": {},
   "source": [
    "# Team Members : Soumitra Alate, Sagar Pokale\n",
    "\n",
    "# Ubitname : smalate (50289133)\n",
    "# Ubitname : sagarpok (50288055)\n",
    "\n",
    "# CSE 587 - Lab2 - Twitter_Data_Crawl "
   ]
  },
  {
   "cell_type": "code",
   "execution_count": 3,
   "metadata": {},
   "outputs": [
    {
     "name": "stderr",
     "output_type": "stream",
     "text": [
      "Installing package into 'C:/Users/Soumi/OneDrive/Documents/R/win-library/3.5'\n",
      "(as 'lib' is unspecified)\n",
      "Warning message:\n",
      "\"unable to access index for repository http://www.stats.ox.ac.uk/pub/RWin/bin/windows/contrib/3.5:\n",
      "  cannot open URL 'http://www.stats.ox.ac.uk/pub/RWin/bin/windows/contrib/3.5/PACKAGES'\""
     ]
    },
    {
     "name": "stdout",
     "output_type": "stream",
     "text": [
      "package 'tm' successfully unpacked and MD5 sums checked\n",
      "\n",
      "The downloaded binary packages are in\n",
      "\tC:\\Users\\Soumi\\AppData\\Local\\Temp\\RtmpaQRYiM\\downloaded_packages\n"
     ]
    },
    {
     "name": "stderr",
     "output_type": "stream",
     "text": [
      "Installing package into 'C:/Users/Soumi/OneDrive/Documents/R/win-library/3.5'\n",
      "(as 'lib' is unspecified)\n",
      "Warning message:\n",
      "\"unable to access index for repository http://www.stats.ox.ac.uk/pub/RWin/bin/windows/contrib/3.5:\n",
      "  cannot open URL 'http://www.stats.ox.ac.uk/pub/RWin/bin/windows/contrib/3.5/PACKAGES'\""
     ]
    },
    {
     "name": "stdout",
     "output_type": "stream",
     "text": [
      "package 'slam' successfully unpacked and MD5 sums checked\n",
      "\n",
      "The downloaded binary packages are in\n",
      "\tC:\\Users\\Soumi\\AppData\\Local\\Temp\\RtmpaQRYiM\\downloaded_packages\n"
     ]
    }
   ],
   "source": [
    "install.packages(\"tm\")\n",
    "install.packages(\"slam\")"
   ]
  },
  {
   "cell_type": "code",
   "execution_count": 13,
   "metadata": {},
   "outputs": [],
   "source": [
    "library(\"twitteR\")\n",
    "library(data.table)\n",
    "library(\"tm\")"
   ]
  },
  {
   "cell_type": "code",
   "execution_count": 14,
   "metadata": {},
   "outputs": [
    {
     "name": "stdout",
     "output_type": "stream",
     "text": [
      "[1] \"Using direct authentication\"\n"
     ]
    }
   ],
   "source": [
    "api_key <- \"FuG9MVZ4I5mmZENb5rTyplhoF\"\n",
    "api_secret <- \"PUbx3R2eWNRbYaHReeMmpK8xuIiJWShoNu2Mk0sDaye36xRvqc\"\n",
    "access_token <- \"1037053024617865216-VUcTGKqWP4kZugGXuJg7f8byadgZk9\"\n",
    "access_token_secret <- \"IZerP1C6gbGoL4t2uPUbpHVxwti5mhqJTf82cACuTYmcu\"\n",
    "setup_twitter_oauth(api_key,api_secret,access_token,access_token_secret)\n",
    "\n",
    "\n",
    "us_geocode <- \"40.482405,-97.413745,2280mi\"\n",
    "\n",
    "\n",
    "tweets <- searchTwitter(\"Sports OR Football Team OR football OR Football\", n = 4000, lang = \"en\", geocode=us_geocode)\n",
    "tweets<-strip_retweets(tweets, strip_manual = TRUE, strip_mt = TRUE)"
   ]
  },
  {
   "cell_type": "code",
   "execution_count": 15,
   "metadata": {},
   "outputs": [],
   "source": [
    "tweets <- twListToDF(tweets)\n",
    "tweets.text <- tweets$text\n",
    "# tweets.text"
   ]
  },
  {
   "cell_type": "code",
   "execution_count": 16,
   "metadata": {},
   "outputs": [],
   "source": [
    "# Remove retweet\n",
    " tweets.text <- gsub(\"rt\", \"\", tweets.text)\n",
    "\n",
    "# Remove at @\\\n",
    "tweets.text <- gsub(\"@\\\\w+\", \"\", tweets.text)\n",
    "\n",
    "# Remove Number/Digit\n",
    "tweets.text = gsub(\"[[:digit:]]\", \"\", tweets.text) \n",
    "\n",
    " # Remove punctuation\n",
    " tweets.text <- gsub(\"[[:punct:]]\", \"\", tweets.text)\n",
    "\n",
    " # Remove links\n",
    " tweets.text <- gsub(\"http\\\\w+\", \"\", tweets.text)\n",
    "\n",
    " # Remove tabs\n",
    " tweets.text <- gsub(\"[ |\\t]{2,}\", \"\", tweets.text)\n",
    "\n",
    " # Remove blank spaces at the beginning\n",
    " tweets.text <- gsub(\"^ \", \"\", tweets.text)\n",
    "\n",
    "# Remove blank spaces at the end\n",
    " tweets.text <- gsub(\" $\", \"\", tweets.text)\n",
    "\n",
    " # Remove blank spaces in the middle\n",
    " tweets.text <- gsub(\"\\\\s+\", \" \", tweets.text)"
   ]
  },
  {
   "cell_type": "code",
   "execution_count": 17,
   "metadata": {},
   "outputs": [
    {
     "name": "stderr",
     "output_type": "stream",
     "text": [
      "Warning message in tm_map.SimpleCorpus(myCorpus, function(x) removeWords(x, stopwords())):\n",
      "\"transformation drops documents\""
     ]
    }
   ],
   "source": [
    "myCorpus <- Corpus(VectorSource(tweets.text))\n",
    "tweets.text.corpus <- tm_map(myCorpus, function(x)removeWords(x,stopwords()))"
   ]
  },
  {
   "cell_type": "code",
   "execution_count": 18,
   "metadata": {},
   "outputs": [],
   "source": [
    "tweets.txt <- unique(tweets.text)\n",
    "#tweets.txt\n",
    "tweets.text <- data.frame(tweets.txt)\n",
    "# tweets.text"
   ]
  },
  {
   "cell_type": "code",
   "execution_count": 19,
   "metadata": {},
   "outputs": [],
   "source": [
    "write.table(tweets.text, \"R_twitter_text_data8.txt\", append = FALSE, sep = \" \", dec = \".\",\n",
    "            row.names = TRUE, col.names = TRUE)"
   ]
  },
  {
   "cell_type": "code",
   "execution_count": 20,
   "metadata": {},
   "outputs": [],
   "source": [
    "#Reference :  #http://technokarak.com/how-to-clean-the-twitter-data-using-r-twitter-mining-tutorial.html"
   ]
  },
  {
   "cell_type": "code",
   "execution_count": null,
   "metadata": {},
   "outputs": [],
   "source": []
  },
  {
   "cell_type": "code",
   "execution_count": null,
   "metadata": {},
   "outputs": [],
   "source": []
  },
  {
   "cell_type": "code",
   "execution_count": null,
   "metadata": {},
   "outputs": [],
   "source": []
  }
 ],
 "metadata": {
  "kernelspec": {
   "display_name": "R",
   "language": "R",
   "name": "ir"
  },
  "language_info": {
   "codemirror_mode": "r",
   "file_extension": ".r",
   "mimetype": "text/x-r-source",
   "name": "R",
   "pygments_lexer": "r",
   "version": "3.5.1"
  }
 },
 "nbformat": 4,
 "nbformat_minor": 2
}
